{
 "cells": [
  {
   "cell_type": "markdown",
   "metadata": {},
   "source": [
    "### Homework 1 - Graded Assignment (Individual Assignment)"
   ]
  },
  {
   "cell_type": "markdown",
   "metadata": {},
   "source": [
    "Data = cars.csv\n",
    "Predictors = [Cylinders, Weight, Horsepower]\n",
    "Target = MPG\n",
    "\n",
    "You will remove all the observations for which MPG and Horsepower is zero.\n",
    "Do a scaling - do standardization of all the predictors ((X-mean)/sd) [This won't make it standard normal distributed) - This is done beacuse different variables are measured in different scales.\n",
    "\n",
    "Keep aside one random observation from the dataset as test. (DO NOT include that observation for training the algorithm)\n",
    "\n",
    "you need to build a kNN algorithm for regression.\n",
    "\n",
    "kNN(trainX, trainY, testX, k)"
   ]
  },
  {
   "cell_type": "code",
   "execution_count": 1,
   "metadata": {},
   "outputs": [],
   "source": [
    "import numpy as np\n",
    "import pandas as pd\n",
    "from sklearn import preprocessing"
   ]
  },
  {
   "cell_type": "code",
   "execution_count": 2,
   "metadata": {},
   "outputs": [],
   "source": [
    "#Function to load the data\n",
    "def data(n):   # n donates which row should be taken as test data\n",
    "    \n",
    "    cars = pd.read_csv(r\"C:\\Users\\hp\\OneDrive\\Desktop\\Python\\Session\\cars.csv\") #Read the file cars.csv from the provided path\n",
    "    \n",
    "    cars2 = cars[[\"MPG\",\"Cylinders\",\"Weight\",\"Horsepower\"]] #Subsets the Predictors and Target variables\n",
    "    \n",
    "    cars2 = cars2.replace(0,pd.np.nan).dropna() #Remove the rows when any variable has 0 as value\n",
    "    \n",
    "    trainX = cars2.iloc[0:len(cars2), [1,2,3]] # Subsets the Predictors values as trainX\n",
    "    \n",
    "    trainY = cars2.MPG[0:len(cars2)] # Subsets the Predictors values as trainY\n",
    "    \n",
    "    trainX = preprocessing.scale(trainX) # scaling - standardization of all the predictors((X-mean)/sd)\n",
    "                                         # scaling has been done before splitting the dataset into train and test\n",
    "        \n",
    "    test = trainX[n-1] #Subsets the test data from trainX, where n donates which row should be taken as test data\n",
    "    \n",
    "    trainX = np.delete(trainX,n-1,axis=0) # Delete the test data from the trainX\n",
    "    \n",
    "    trainY = np.delete(np.array(trainY),n-1) # Delete the test data respective trainY data\n",
    "    \n",
    "    return(trainX,trainY,test)"
   ]
  },
  {
   "cell_type": "code",
   "execution_count": 3,
   "metadata": {},
   "outputs": [],
   "source": [
    "#Function to calculate the euclidean distance between each train data with test data\n",
    "def euclidean(p,q): # where p will be trainX and q will be test\n",
    "    \n",
    "    d = 0\n",
    "    \n",
    "    dist = []\n",
    "    \n",
    "    for i in range(len(p)): #For loop to re-itrate each row of the trainX data\n",
    "        \n",
    "        for j in range(len(p[i])): # For loop to re-itrate each value of the row\n",
    "            \n",
    "            d = d + (p[i][j]-q[j])**2\n",
    "        dist.append(np.sqrt(d))\n",
    "        d = 0\n",
    "    return(dist)"
   ]
  },
  {
   "cell_type": "code",
   "execution_count": 4,
   "metadata": {},
   "outputs": [],
   "source": [
    "#Function for kNN algorithm\n",
    "def kNN(n, k):   # n is which row should be treated as test\n",
    "                 # k will be k value of kNN  \n",
    "    \n",
    "    trainX,trainY,test = data(n) # calls the function data() and gets the dataset information\n",
    "    \n",
    "    distance = euclidean(trainX,test) #calls the function euclidean() and calculate the distance \n",
    "\n",
    "    d = distance.copy()  # distance variable is made dupliacte and stored as d\n",
    "    distance.sort()   #distance variable is sorted in ascending order\n",
    "\n",
    "    index = []\n",
    "    for i in range(0,k):  # for loop to find the nearest k vales from the test data\n",
    "        indx = d.index(distance[i])\n",
    "        index.append(indx)\n",
    "        d[indx] = -1\n",
    "    pred_y = np.mean(trainY[index])  # to find the mean of k number of predicted trainY values\n",
    "    return(pred_y)"
   ]
  },
  {
   "cell_type": "code",
   "execution_count": 5,
   "metadata": {},
   "outputs": [
    {
     "name": "stderr",
     "output_type": "stream",
     "text": [
      "<ipython-input-2-418a33f7c772>:8: FutureWarning: The pandas.np module is deprecated and will be removed from pandas in a future version. Import numpy directly instead\n",
      "  cars2 = cars2.replace(0,pd.np.nan).dropna() #Remove the rows when any variable has 0 as value\n"
     ]
    },
    {
     "data": {
      "text/plain": [
       "19.2"
      ]
     },
     "execution_count": 5,
     "metadata": {},
     "output_type": "execute_result"
    }
   ],
   "source": [
    "kNN(1,1) # test = 1st row and kNN = 1"
   ]
  },
  {
   "cell_type": "code",
   "execution_count": 6,
   "metadata": {},
   "outputs": [
    {
     "name": "stderr",
     "output_type": "stream",
     "text": [
      "<ipython-input-2-418a33f7c772>:8: FutureWarning: The pandas.np module is deprecated and will be removed from pandas in a future version. Import numpy directly instead\n",
      "  cars2 = cars2.replace(0,pd.np.nan).dropna() #Remove the rows when any variable has 0 as value\n"
     ]
    },
    {
     "data": {
      "text/plain": [
       "19.7"
      ]
     },
     "execution_count": 6,
     "metadata": {},
     "output_type": "execute_result"
    }
   ],
   "source": [
    "kNN(1,2) # test = 1st row and kNN = 2"
   ]
  },
  {
   "cell_type": "code",
   "execution_count": 7,
   "metadata": {},
   "outputs": [
    {
     "name": "stderr",
     "output_type": "stream",
     "text": [
      "<ipython-input-2-418a33f7c772>:8: FutureWarning: The pandas.np module is deprecated and will be removed from pandas in a future version. Import numpy directly instead\n",
      "  cars2 = cars2.replace(0,pd.np.nan).dropna() #Remove the rows when any variable has 0 as value\n"
     ]
    },
    {
     "data": {
      "text/plain": [
       "19.0"
      ]
     },
     "execution_count": 7,
     "metadata": {},
     "output_type": "execute_result"
    }
   ],
   "source": [
    "kNN(1,3) # test = 1st row and kNN = 3"
   ]
  },
  {
   "cell_type": "code",
   "execution_count": 8,
   "metadata": {},
   "outputs": [
    {
     "name": "stderr",
     "output_type": "stream",
     "text": [
      "<ipython-input-2-418a33f7c772>:8: FutureWarning: The pandas.np module is deprecated and will be removed from pandas in a future version. Import numpy directly instead\n",
      "  cars2 = cars2.replace(0,pd.np.nan).dropna() #Remove the rows when any variable has 0 as value\n"
     ]
    },
    {
     "data": {
      "text/plain": [
       "12.75"
      ]
     },
     "execution_count": 8,
     "metadata": {},
     "output_type": "execute_result"
    }
   ],
   "source": [
    "kNN(6,2) # test = 6th row and kNN = 2"
   ]
  },
  {
   "cell_type": "code",
   "execution_count": 9,
   "metadata": {},
   "outputs": [
    {
     "name": "stderr",
     "output_type": "stream",
     "text": [
      "<ipython-input-2-418a33f7c772>:8: FutureWarning: The pandas.np module is deprecated and will be removed from pandas in a future version. Import numpy directly instead\n",
      "  cars2 = cars2.replace(0,pd.np.nan).dropna() #Remove the rows when any variable has 0 as value\n"
     ]
    },
    {
     "data": {
      "text/plain": [
       "17.733333333333334"
      ]
     },
     "execution_count": 9,
     "metadata": {},
     "output_type": "execute_result"
    }
   ],
   "source": [
    "kNN(121,3) # test = 121th row and kNN = 3"
   ]
  },
  {
   "cell_type": "code",
   "execution_count": null,
   "metadata": {},
   "outputs": [],
   "source": []
  }
 ],
 "metadata": {
  "kernelspec": {
   "display_name": "Python 3",
   "language": "python",
   "name": "python3"
  },
  "language_info": {
   "codemirror_mode": {
    "name": "ipython",
    "version": 3
   },
   "file_extension": ".py",
   "mimetype": "text/x-python",
   "name": "python",
   "nbconvert_exporter": "python",
   "pygments_lexer": "ipython3",
   "version": "3.8.3"
  }
 },
 "nbformat": 4,
 "nbformat_minor": 4
}
